{
 "cells": [
  {
   "cell_type": "markdown",
   "metadata": {},
   "source": [
    "# About this\n",
    "This is a standalone instance of [jupyterlite](https://github.com/jupyterlite/jupyterlite),\n",
    "a wasm powered jupyter environment running completely in your browser!"
   ]
  }
 ],
 "metadata": {
  "language_info": {
   "name": "python"
  }
 },
 "nbformat": 4,
 "nbformat_minor": 2
}
